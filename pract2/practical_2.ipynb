{
 "cells": [
  {
   "cell_type": "markdown",
   "id": "3c3c7af9-1e49-4f37-8699-b0103fa30353",
   "metadata": {},
   "source": [
    "## Name : Jay Gupta\n",
    "## Batch : B2\n",
    "## Roll No : B2-21\n",
    "## Date : 27/8/2024\n",
    "## Practical 2"
   ]
  },
  {
   "cell_type": "markdown",
   "id": "e48644cb-1262-4496-83dc-f1b523ff6535",
   "metadata": {},
   "source": [
    "### 1. Do as directed notebook for topic: List\n",
    "### PART 1\n",
    "### 1. Count the total number of orders [ Orders include both processed and returned orders]\n",
    "### 2. In the total orders, identify the 50th order [ Note: Assume the order ID’s are being generated in a consecutive manner]\n",
    "### 3. Is 50th order a returned order or processed order?\n",
    "### 4. What is the last processed order ID ? [ Note: Assume the order ID’s are being generated in a consecutive manner]\n",
    "### 5. Identify the first 4 orders which are processed?"
   ]
  },
  {
   "cell_type": "code",
   "execution_count": 46,
   "id": "deddaab2-e214-470b-b2bb-e47f7cb7d89b",
   "metadata": {},
   "outputs": [
    {
     "name": "stdout",
     "output_type": "stream",
     "text": [
      "Sorted Orders :  [1050, 1051, 1052, 1053, 1054, 1055, 1056, 1057, 1058, 1059, 1060, 1061, 1062, 1063, 1064, 1065, 1066, 1067, 1068, 1069, 1070, 1071, 1072, 1073, 1074, 1075, 1076, 1077, 1078, 1079, 1080, 1081, 1082, 1083, 1084, 1085, 1086, 1087, 1088, 1089, 1090, 1091, 1092, 1093, 1094, 1095, 1096, 1097, 1098, 1099, 1100, 1101, 1102, 1103, 1104, 1105, 1106, 1107, 1108, 1109, 1110, 1111, 1112, 1113, 1114, 1115, 1116, 1117, 1118, 1119, 1120, 1121, 1122, 1123, 1124, 1125, 1126, 1127, 1128, 1129, 1130, 1131, 1132, 1133, 1134, 1135, 1136, 1137, 1138, 1139, 1140, 1141, 1142, 1143, 1144, 1145, 1146, 1147, 1148, 1149, 1150, 1151, 1152, 1153, 1154, 1155, 1156, 1157, 1158, 1159, 1160, 1161, 1162, 1163, 1164, 1165, 1166, 1167, 1168, 1169, 1170, 1171, 1172, 1173, 1174, 1175, 1176, 1177, 1178]\n",
      "Total Orders : 129\n",
      "50th Element of list :  1099\n",
      "50th element exist in list of processed_orders\n",
      "Last element of processed List :  1178\n",
      "First 4 orders which are processed are :  [1152, 1154, 1155, 1156]\n"
     ]
    }
   ],
   "source": [
    "processed_orders=[1152,1154,1155,1156,1157,1160,1161,1162,1166,1169,1170,1172,1176,1050,1178,1051,1052,1054,\n",
    "                  1058,1060,1061,1062,1065,1066,1067,1068,1069,1076,1077,1080,1081,1083,1091,1085,1088,1089,\n",
    "                  1131,1092,1094,1095,1099,1102,1103,1104,1106,1107,1108,1109,1111,1117,1119,1121,1150,1128,\n",
    "                  1129,1136,1137,1139,1140,1141,1144,1148,1124]\n",
    "\n",
    "returned_orders = [1153,1158,1159,1163,1164,1165,1167,1168,1171,1173,1174,1175,1177,1053, 1055, 1056, 1057,\n",
    "                   1059, 1063, 1064,1070, 1071, 1072,1073,1074,1075,1078,1079,1082,1084,1086,1087,1090,1093,\n",
    "                   1096,1097,1098,1100,1101,1105,1110,1112,1113,1114,1115,1116,1118,1120,1122,1123,1125,1126,\n",
    "                   1127,1130,1132,1133,1134,1135,1138,1142,1143,1145,1146,1147,1149,1151]\n",
    "all_orders=sorted(processed_orders+returned_orders)\n",
    "print(\"Sorted Orders : \",all_orders)\n",
    "total_orders=len(all_orders)\n",
    "print(\"Total Orders :\",total_orders)\n",
    "if total_orders >=50:\n",
    "    fifty = all_orders[49]\n",
    "    print(\"50th Element of list : \", fifty)\n",
    "else:\n",
    "    print(\"50th element do not exist\")\n",
    "if fifty in processed_orders :\n",
    "    print(\"50th element exist in list of processed_orders\")\n",
    "elif fifty in returned_orders :\n",
    "    print(\"50th element exist in list of returned_orders\")\n",
    "else :\n",
    "    print(\"Unknown\")\n",
    "\n",
    "\n",
    "last_processed = max(processed_orders)\n",
    "print(\"Last element of processed List : \",last_processed)\n",
    "\n",
    "print(\"First 4 orders which are processed are : \", processed_orders[:4])"
   ]
  },
  {
   "cell_type": "markdown",
   "id": "e24ae4fc-80c5-4a86-9429-7e34c738e5e6",
   "metadata": {},
   "source": [
    "### PART 2\n",
    "### 1. How many different products are sold by the company in total?\n",
    "### 2. How many items were sold in total?\n",
    "### 3. What is the average price of the products sold by the ecommerce company?\n",
    "### 4. What is the price of the costliest item sold?\n",
    "### 5. What is the total revenue of the company? [Revenue = Price*Quantity]\n",
    "### 6. Demand for the 20th product in the list is more than the 50th product. [True/False]\n",
    "### 7. How many products fall under the category of expensive goods?\n",
    "### 8. An expensive good is that good whose price is more than the average price of the products sold by the company."
   ]
  },
  {
   "cell_type": "code",
   "execution_count": 4,
   "id": "97e6d98e-de88-48f2-8529-1d9f38d78a81",
   "metadata": {},
   "outputs": [
    {
     "name": "stdout",
     "output_type": "stream",
     "text": [
      "Different product sold by company =  9\n",
      "Total items were sold :  490\n",
      "Average =  139.01960784313727\n",
      "Price of Costliest item =  285\n",
      "Total Revenue: 67100\n",
      "True\n",
      "52\n",
      "Quantity of Expensive Goods: 52\n"
     ]
    }
   ],
   "source": [
    "number=[8,9,9,1,6,9,5,7,3,9,7,3,4,8,3,5,8,4,8,7,5,7,3,6,1,2,7,4,7,7,8,\n",
    "        4,3,4,2,2,2,7,3,5,6,1,1,3,2,1,1,7,7,1,4,4,5,6,1,2,7,4,5,8,1,4,8,6,2,4,3,\n",
    "        7,3,6,2,3,3,3,2,4,6,8,9,3,9,3,1,8,6,6,3,3,9,4,6,4,9,6,7,1,2,8,7,8,1,4]\n",
    "\n",
    "price = [195,225,150,150,90,60,75,255,270,225,135,195,30,15,210,105,15,\n",
    "         30,180,60,165,60,45,225,180,90,30,210,150,15,270,60,210,180,60,\n",
    "         225,150,150,120,195,75,240,60,45,30,180,240,285,135,165,180,240,\n",
    "         60,105,165,240,120,45,120,165,285,225,90,105,225,45,45,45,75,180,\n",
    "         90,240,30,30,60,135,180,15,255,180,270,135,105,135,210,180,135,195,\n",
    "         225,75,225,15,240,60,15,180,255,90,15,150,230,150]\n",
    "\n",
    "## 1. Different products\n",
    "numbers = set(number)\n",
    "print(\"Different product sold by company = \", len(numbers))\n",
    "## 2. how many items were sold in total\n",
    "print(\"Total items were sold : \", sum(number))\n",
    "## 3. average price of the product sold by ecommerce company\n",
    "average = sum(price) / len(price)\n",
    "print(\"Average = \",average)\n",
    "## 4.Costliest item sold\n",
    "print(\"Price of Costliest item = \", max(price))\n",
    "## 5. Total Revenue of the company\n",
    "Total_revenue=sum((number[i]*price[i]) for i in range (len(number)))\n",
    "print (\"Total Revenue:\",Total_revenue)\n",
    "## 6.Demand of 20th product in the list is more than 50th product(True/False)\n",
    "if number[19]>number[49]:\n",
    "    print(\"True\")\n",
    "else:\n",
    "    print(\"False\")\n",
    "## 7. Total Expensive Goods\n",
    "count=0\n",
    "for i in price:\n",
    "    if((average<i)):\n",
    "        count=count+1\n",
    "print(count)\n",
    "print(\"Quantity of Expensive Goods:\",count)"
   ]
  },
  {
   "cell_type": "markdown",
   "id": "1867849f-8ef0-434e-9ef4-b25e02595679",
   "metadata": {},
   "source": [
    "### 2 Write a python program to define a tuple of 10 student’s information as roll no., name, address and marks of 3 subjects Physics, Chemistry an  Mathematics. The list is sorted by roll no. You program should display list of three toppers in all students."
   ]
  },
  {
   "cell_type": "code",
   "execution_count": 36,
   "id": "0e50d2da-f153-4d12-81ca-b1e38e5c5c93",
   "metadata": {},
   "outputs": [
    {
     "name": "stdout",
     "output_type": "stream",
     "text": [
      "Top 3 Students based on total marks:\n",
      "Roll No: 8, Name: Ha, Address: 8 St, Total Marks: 285\n",
      "Roll No: 6, Name: Fa, Address: 6 St, Total Marks: 273\n",
      "Roll No: 3, Name: Ca, Address: 3 St, Total Marks: 272\n"
     ]
    }
   ],
   "source": [
    "\n",
    "students = [\n",
    "    (1, 'Aa', '1 St', (85, 90, 95)),\n",
    "    (2, 'Ba', '2 St', (18, 5, 8)),\n",
    "    (3, 'Ca', '3 St', (92, 91, 89)),\n",
    "    (4, 'Da', '4 St', (75, 80, 70)),\n",
    "    (5, 'Ea', '5 St', (88, 84, 80)),\n",
    "    (6, 'Fa', '6 St', (90, 92, 91)),\n",
    "    (7, 'Ga', '7 St', (77, 80, 79)),\n",
    "    (8, 'Ha', '8 St', (95, 97, 93)),\n",
    "    (9, 'Ia', '9 St', (80, 82, 85)),\n",
    "    (10, 'Ja', '0 St', (70, 72, 68))\n",
    "]\n",
    "\n",
    "def calculate_total_marks(marks):\n",
    "    return sum(marks)\n",
    "\n",
    "def sort_marks(student):\n",
    "    return student[3]\n",
    "\n",
    "students_with_totals = []\n",
    "for student in students:\n",
    "    roll_no, name, address, marks = student\n",
    "    total_marks = calculate_total_marks(marks)\n",
    "    students_with_totals.append((roll_no, name, address, total_marks))\n",
    "\n",
    "students_with_totals.sort(key=sort_marks,reverse=True)\n",
    "\n",
    "top_three_students = students_with_totals[:3]\n",
    "\n",
    "\n",
    "print(\"Top 3 Students based on total marks:\")\n",
    "for student in top_three_students:\n",
    "    roll_no, name, address, total_marks = student\n",
    "    print(f\"Roll No: {roll_no}, Name: {name}, Address: {address}, Total Marks: {total_marks}\")\n"
   ]
  },
  {
   "cell_type": "markdown",
   "id": "58af6380-06b6-4b55-a8e6-4800e2f5a7ad",
   "metadata": {},
   "source": [
    "### 3. Python program that displays which letters present in the two strings ."
   ]
  },
  {
   "cell_type": "code",
   "execution_count": 48,
   "id": "d258b928-1982-4975-8d7e-38407f2cde4c",
   "metadata": {},
   "outputs": [
    {
     "name": "stdin",
     "output_type": "stream",
     "text": [
      "Enter string 1 :  hemish\n",
      "Enter string 2 :  penta'\n"
     ]
    },
    {
     "name": "stdout",
     "output_type": "stream",
     "text": [
      "Letters present in both strings: e\n"
     ]
    }
   ],
   "source": [
    "def common_letters(str1, str2):\n",
    "    return set(str1) & set(str2)\n",
    "str1 = input(\"Enter string 1 : \")\n",
    "str2 = input(\"Enter string 2 : \")\n",
    "\n",
    "common_letters = common_letters(str1, str2)\n",
    "print(\"Letters present in both strings:\", ''.join(common_letters))\n"
   ]
  },
  {
   "cell_type": "markdown",
   "id": "17de5788-5858-4f55-91c5-08cdeb1539dd",
   "metadata": {},
   "source": [
    "### 4. A List rotation consists of taking the first element and moving it to the end. Write a python thattakes a list L and a positive integer k and generate the list L after k rotations. If K is not positive, it should return L unchanged.\n",
    "### Ip: L=[1,2,3,4,5]\n",
    "### After 1st rotation: list become [2,3,4,5,1]\n",
    "### After the 2nd rotation list becomes [3,4,5,1,2] ....... So on.\n",
    "### Print output after each rotation. Take the value of k from the user."
   ]
  },
  {
   "cell_type": "code",
   "execution_count": 121,
   "id": "fe4c9285-24e7-4294-821c-ad65c27c5cb2",
   "metadata": {},
   "outputs": [
    {
     "name": "stdin",
     "output_type": "stream",
     "text": [
      "Enter the number of rotations:  5\n"
     ]
    },
    {
     "name": "stdout",
     "output_type": "stream",
     "text": [
      "After rotation 1 : [2, 3, 4, 5, 1]\n",
      "After rotation 2 : [3, 4, 5, 1, 2]\n",
      "After rotation 3 : [4, 5, 1, 2, 3]\n",
      "After rotation 4 : [5, 1, 2, 3, 4]\n",
      "After rotation 5 : [1, 2, 3, 4, 5]\n"
     ]
    }
   ],
   "source": [
    "def rotate(L, K):\n",
    "    n = len(L) \n",
    "    if K > 0:\n",
    "        for i in range(k): \n",
    "            L = L[1:] + L[:1]\n",
    "            print(f\"After rotation {i + 1} : {L}\")\n",
    "\n",
    "L = [1, 2, 3, 4, 5]\n",
    "\n",
    "K = int(input(\"Enter the number of rotations: \"))\n",
    "rotate(L, K)\n"
   ]
  },
  {
   "cell_type": "markdown",
   "id": "275f8084-4f0c-4d9e-90cc-5ce4e3958e0e",
   "metadata": {},
   "source": [
    "### 5. Create a list of tuples, with each tuple having 5 numbers. Perform the addition of 3rd numbers of each tuple."
   ]
  },
  {
   "cell_type": "code",
   "execution_count": 62,
   "id": "eec393fc-8a50-4195-9f45-dd7662d3940b",
   "metadata": {},
   "outputs": [
    {
     "name": "stdout",
     "output_type": "stream",
     "text": [
      "Sum of the third numbers in each tuple: 25\n"
     ]
    }
   ],
   "source": [
    "L = [(1,2,3,4,5),(2,3,4,5,6),(3,4,5,6,7),(4,5,6,7,8),(5,6,7,8,9)]\n",
    "total_sum = sum(i[2] for i in L)\n",
    "print(\"Sum of the third numbers in each tuple:\", total_sum)"
   ]
  },
  {
   "cell_type": "markdown",
   "id": "5e121a4f-9e14-47f7-b26a-17eb4ae5c09b",
   "metadata": {},
   "source": [
    "### 6. Write a python program to Convert a long string to a list and print all the words and their frequencies"
   ]
  },
  {
   "cell_type": "code",
   "execution_count": 127,
   "id": "90b1c7de-93c2-47cd-8e8d-9177819d9f09",
   "metadata": {},
   "outputs": [
    {
     "name": "stdout",
     "output_type": "stream",
     "text": [
      "Word frequencies:\n",
      "Write: 1\n",
      "a: 3\n",
      "python: 1\n",
      "program: 1\n",
      "to: 2\n",
      "Convert: 1\n",
      "long: 1\n",
      "string: 1\n",
      "list: 1\n",
      "and: 2\n",
      "print: 1\n",
      "all: 1\n",
      "the: 1\n",
      "words: 1\n",
      "their: 1\n",
      "frequencies: 1\n"
     ]
    }
   ],
   "source": [
    "string = \"Write a python program to Convert a long string to a list and print all the words and their frequencies \"\n",
    "words = string.split()\n",
    "word_frequencies = {}\n",
    "for word in words:\n",
    "    if word in word_frequencies:\n",
    "        word_frequencies[word] += 1\n",
    "    else:\n",
    "        word_frequencies[word] = 1\n",
    "print(\"Word frequencies:\")\n",
    "for word in word_frequencies:\n",
    "    print(f\"{word}: {word_frequencies[word]}\")"
   ]
  },
  {
   "cell_type": "code",
   "execution_count": null,
   "id": "86dc4868-c073-4f6e-a9ab-cf66045c3a48",
   "metadata": {},
   "outputs": [],
   "source": []
  }
 ],
 "metadata": {
  "kernelspec": {
   "display_name": "Python 3 (ipykernel)",
   "language": "python",
   "name": "python3"
  },
  "language_info": {
   "codemirror_mode": {
    "name": "ipython",
    "version": 3
   },
   "file_extension": ".py",
   "mimetype": "text/x-python",
   "name": "python",
   "nbconvert_exporter": "python",
   "pygments_lexer": "ipython3",
   "version": "3.12.1"
  }
 },
 "nbformat": 4,
 "nbformat_minor": 5
}
