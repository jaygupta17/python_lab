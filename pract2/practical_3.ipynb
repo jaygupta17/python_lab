{
 "cells": [
  {
   "cell_type": "markdown",
   "id": "4b765955-869a-4fa7-aa27-76719f21d314",
   "metadata": {},
   "source": [
    "### Write a program to create a set containing 10 randomly generated numbers in the range 15 to 45. Count how many of these numbers are less than 30. Delete all numbers which are greater than 35."
   ]
  },
  {
   "cell_type": "code",
   "execution_count": 8,
   "id": "21d0f682-91d6-4bcb-bbb5-1fd47fe00059",
   "metadata": {},
   "outputs": [
    {
     "name": "stdout",
     "output_type": "stream",
     "text": [
      "Numbers:{35, 38, 41, 42, 43, 45, 15, 17, 23, 25}\n",
      "Numbers less than 30:[15, 17, 23, 25]\n",
      "Count of Number less than 30:4\n",
      "After deleting numbers greater than 35:{35, 15, 17, 23, 25}\n"
     ]
    }
   ],
   "source": [
    "import random\n",
    "nums = set()\n",
    "while len(nums)<10 :\n",
    "    nums.add(random.randint(15,45))\n",
    "less_than_30 = [num for num in nums if num<30]\n",
    "print(f\"Numbers:{nums}\\nNumbers less than 30:{less_than_30}\\nCount of Number less than 30:{len(less_than_30)}\")\n",
    "for num in list(nums):\n",
    "    if num>35:\n",
    "        nums.remove(num)\n",
    "print(f\"After deleting numbers greater than 35:{nums}\")"
   ]
  },
  {
   "cell_type": "markdown",
   "id": "48a9463f-018a-484c-8b6b-7b305c4e845d",
   "metadata": {},
   "source": [
    "### In a survey of 500 students of a college, it was found that 49% liked watching football,53% liked watching hockey and 62% liked watching basketball. Also, 27% likedwatching football and hockey both, 29% liked watching basketball and hockey both and28% liked watching football and basketball both. 5% liked watching none of thesegames.\n",
    "### i. How many students like watching all the three games?\n",
    "### ii. Find the ratio of number of students who like watching only football to those who like watching only hockey.\n",
    "### iii. Find the number of students who like watching only one of the three given games.\n",
    "### iv. Find the number of students who like watching at least two of the given games."
   ]
  },
  {
   "cell_type": "code",
   "execution_count": 16,
   "id": "cad73394",
   "metadata": {},
   "outputs": [
    {
     "data": {
      "text/plain": [
       "520"
      ]
     },
     "execution_count": 16,
     "metadata": {},
     "output_type": "execute_result"
    }
   ],
   "source": [
    "data = [\n",
    "    (\"f\",49,int(500*0.49-500*0.27-500*0.28)),\n",
    "    (\"h\",53,int(500*0.53-500*0.27-500*0.29)),\n",
    "    (\"b\",62,int(500*0.62-500*0.28-500*0.29)),\n",
    "    (\"fh\",27,int(500*0.27)),\n",
    "    (\"bh\",29,int(500*0.29)),\n",
    "    (\"fb\",28,int(500*0.28)),\n",
    "    (\"none\",5,int(500*0.5)),\n",
    "]\n",
    "\n",
    "all = 500 - (sum([x[2] for x in data]))\n",
    "only_one = 500 - (sum([x[2] for x in data if (x[0]==\"f\" or x[0]==\"b\" or x[0]==\"h\")]))\n",
    "only_one\n"
   ]
  },
  {
   "cell_type": "markdown",
   "id": "cda03aef",
   "metadata": {},
   "source": [
    "### 4"
   ]
  },
  {
   "cell_type": "code",
   "execution_count": 1,
   "id": "451124b8",
   "metadata": {},
   "outputs": [
    {
     "name": "stdout",
     "output_type": "stream",
     "text": [
      "1 for display\n",
      "2 for add\n",
      "3 for delete\n",
      "4 for Modify\n",
      "5 for Check\n",
      "6 for Sorted display\n",
      "Contacts:{}\n",
      "1 for display\n",
      "2 for add\n",
      "3 for delete\n",
      "4 for Modify\n",
      "5 for Check\n",
      "6 for Sorted display\n",
      "Contacts:{'h': '5'}\n",
      "Contacts:{'h': '5', 'jay': '6'}\n",
      "1 for display\n",
      "2 for add\n",
      "3 for delete\n",
      "4 for Modify\n",
      "5 for Check\n",
      "6 for Sorted display\n",
      "1 for display\n",
      "2 for add\n",
      "3 for delete\n",
      "4 for Modify\n",
      "5 for Check\n",
      "6 for Sorted display\n",
      "Contacts:{'jay': '6'}\n",
      "1 for display\n",
      "2 for add\n",
      "3 for delete\n",
      "4 for Modify\n",
      "5 for Check\n",
      "6 for Sorted display\n",
      "Contacts:{'jay': '8'}\n",
      "Not found\n",
      "1 for display\n",
      "2 for add\n",
      "3 for delete\n",
      "4 for Modify\n",
      "5 for Check\n",
      "6 for Sorted display\n"
     ]
    }
   ],
   "source": [
    "# 4. Write a program to input your friend’s names and their Phone Numbers and store them in\n",
    "# the dictionary as the key-value pair. Perform the following operations on the dictionary:\n",
    "# i. Display the name and phone number of all your friends\n",
    "# ii. Add a new key-value pair in this dictionary and display the modified dictionary\n",
    "# iii. Delete a particular friend from the dictionary\n",
    "# iv. Modify the phone number of an existing friend\n",
    "# v. Check if a friend is present in the dictionary or not\n",
    "# vi. Display the dictionary in sorted order of names\n",
    "\n",
    "contacts = dict()\n",
    "choice = 0\n",
    "while(True):\n",
    "    if choice==-1:\n",
    "        break\n",
    "    elif choice==0:\n",
    "         print(\"1 for display\\n2 for add\\n3 for delete\\n4 for Modify\\n5 for Check\\n6 for Sorted display\")\n",
    "         choice = int(input(\"Your choice:\"))\n",
    "         continue\n",
    "    elif choice==1:\n",
    "        print(f\"Contacts:{contacts}\")\n",
    "        choice = 0\n",
    "        continue\n",
    "    elif choice==2 or choice==4:\n",
    "        data = str(input(\"Enter name and number separated by comma:\"))\n",
    "        if data==\"0\":\n",
    "            choice = 0\n",
    "            continue\n",
    "        [name,number] = data.split(',')\n",
    "        contacts.update({name:number})\n",
    "        print(f\"Contacts:{contacts}\")\n",
    "    elif choice==3:\n",
    "        name = str(input(\"Enter name to delete:\"))\n",
    "        contacts.pop(f\"{name}\")\n",
    "        choice = 0\n",
    "        continue\n",
    "    elif choice==4:\n",
    "        name = str(input(\"Enter name to delete:\"))\n",
    "        if contacts.get(f\"{name}\"):\n",
    "            print(\"exist\")\n",
    "        else:\n",
    "            print(\"Not found\")\n",
    "        choice = 0\n",
    "        continue\n",
    "    else:\n",
    "        exit(0)\n",
    "print(f\"Exited\")"
   ]
  },
  {
   "cell_type": "code",
   "execution_count": null,
   "id": "f3371697",
   "metadata": {},
   "outputs": [],
   "source": []
  }
 ],
 "metadata": {
  "kernelspec": {
   "display_name": "Python 3 (ipykernel)",
   "language": "python",
   "name": "python3"
  },
  "language_info": {
   "codemirror_mode": {
    "name": "ipython",
    "version": 3
   },
   "file_extension": ".py",
   "mimetype": "text/x-python",
   "name": "python",
   "nbconvert_exporter": "python",
   "pygments_lexer": "ipython3",
   "version": "3.12.1"
  }
 },
 "nbformat": 4,
 "nbformat_minor": 5
}
